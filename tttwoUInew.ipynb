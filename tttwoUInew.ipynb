{
 "cells": [
  {
   "cell_type": "code",
   "execution_count": 75,
   "id": "6579aa12-4cfe-409d-9960-f63e1e2e9cb6",
   "metadata": {},
   "outputs": [
    {
     "name": "stdin",
     "output_type": "stream",
     "text": [
      "Do you want to be X or O?  o\n"
     ]
    },
    {
     "name": "stdout",
     "output_type": "stream",
     "text": [
      "You are O, computer is X\n"
     ]
    }
   ],
   "source": [
    "# Initialize board and get player choice\n",
    "board = [' ' for _ in range(9)]\n",
    "\n",
    "# Ask user to choose X or O\n",
    "while True:\n",
    "    player_symbol = input(\"Do you want to be X or O? \").upper()\n",
    "    if player_symbol in ['X', 'O']:\n",
    "        break\n",
    "    print(\"Invalid choice. Please enter X or O.\")\n",
    "\n",
    "computer_symbol = 'O' if player_symbol == 'X' else 'X'\n",
    "print(f\"You are {player_symbol}, computer is {computer_symbol}\")"
   ]
  },
  {
   "cell_type": "code",
   "execution_count": 77,
   "id": "9e07cc60-81f0-4b20-b9f7-241b98936c6a",
   "metadata": {},
   "outputs": [],
   "source": [
    "# Display board function\n",
    "def display_board():\n",
    "    print(\"\\n\")\n",
    "    print(f\" {board[0]} | {board[1]} | {board[2]} \")\n",
    "    print(\"---|---|---\")\n",
    "    print(f\" {board[3]} | {board[4]} | {board[5]} \")\n",
    "    print(\"---|---|---\")\n",
    "    print(f\" {board[6]} | {board[7]} | {board[8]} \")\n",
    "    print(\"\\n\")"
   ]
  },
  {
   "cell_type": "code",
   "execution_count": 79,
   "id": "605fab9c-1826-4789-b528-b9d305b187cb",
   "metadata": {},
   "outputs": [],
   "source": [
    "# Win and draw check\n",
    "def check_win(player):\n",
    "    win_conditions = [\n",
    "        [0,1,2],[3,4,5],[6,7,8],\n",
    "        [0,3,6],[1,4,7],[2,5,8],\n",
    "        [0,4,8],[2,4,6]\n",
    "    ]\n",
    "    return any(all(board[i] == player for i in cond) for cond in win_conditions)\n",
    "\n",
    "def is_draw():\n",
    "    return all(space != ' ' for space in board)"
   ]
  },
  {
   "cell_type": "code",
   "execution_count": 81,
   "id": "aab23f74-0d59-48ff-8c5c-ee534c0ef5c0",
   "metadata": {},
   "outputs": [],
   "source": [
    "# Human move function\n",
    "def player_move():\n",
    "    while True:\n",
    "        try:\n",
    "            move = int(input(f\"Your move (1-9): \")) - 1\n",
    "            if board[move] == ' ':\n",
    "                board[move] = player_symbol\n",
    "                break\n",
    "            else:\n",
    "                print(\"That position is already taken.\")\n",
    "        except (ValueError, IndexError):\n",
    "            print(\"Invalid input. Enter a number from 1 to 9.\")"
   ]
  },
  {
   "cell_type": "code",
   "execution_count": 83,
   "id": "9e062870-bd8a-42b7-97d6-69c542ff4472",
   "metadata": {},
   "outputs": [],
   "source": [
    "# Simple AI logic for computer\n",
    "import random\n",
    "\n",
    "def computer_move():\n",
    "    # Try to win\n",
    "    for i in range(9):\n",
    "        if board[i] == ' ':\n",
    "            board[i] = computer_symbol\n",
    "            if check_win(computer_symbol):\n",
    "                return\n",
    "            board[i] = ' '\n",
    "    \n",
    "    # Try to block player\n",
    "    for i in range(9):\n",
    "        if board[i] == ' ':\n",
    "            board[i] = player_symbol\n",
    "            if check_win(player_symbol):\n",
    "                board[i] = computer_symbol\n",
    "                return\n",
    "            board[i] = ' '\n",
    "\n",
    "    # Take center if available\n",
    "    if board[4] == ' ':\n",
    "        board[4] = computer_symbol\n",
    "        return\n",
    "\n",
    "    # Take random spot\n",
    "    empty = [i for i, val in enumerate(board) if val == ' ']\n",
    "    if empty:\n",
    "        board[random.choice(empty)] = computer_symbol"
   ]
  },
  {
   "cell_type": "code",
   "execution_count": null,
   "id": "9ba1a75b-ab8d-4caf-ba5c-8f86a16627df",
   "metadata": {},
   "outputs": [
    {
     "name": "stdout",
     "output_type": "stream",
     "text": [
      "\n",
      "\n",
      "   |   |   \n",
      "---|---|---\n",
      "   |   |   \n",
      "---|---|---\n",
      "   |   |   \n",
      "\n",
      "\n",
      "Computer's move...\n",
      "\n",
      "\n",
      "   |   |   \n",
      "---|---|---\n",
      "   | X |   \n",
      "---|---|---\n",
      "   |   |   \n",
      "\n",
      "\n"
     ]
    },
    {
     "name": "stdin",
     "output_type": "stream",
     "text": [
      "Your move (1-9):  1\n"
     ]
    },
    {
     "name": "stdout",
     "output_type": "stream",
     "text": [
      "\n",
      "\n",
      " O |   |   \n",
      "---|---|---\n",
      "   | X |   \n",
      "---|---|---\n",
      "   |   |   \n",
      "\n",
      "\n",
      "Computer's move...\n",
      "\n",
      "\n",
      " O |   |   \n",
      "---|---|---\n",
      "   | X | X \n",
      "---|---|---\n",
      "   |   |   \n",
      "\n",
      "\n"
     ]
    },
    {
     "name": "stdin",
     "output_type": "stream",
     "text": [
      "Your move (1-9):  4\n"
     ]
    },
    {
     "name": "stdout",
     "output_type": "stream",
     "text": [
      "\n",
      "\n",
      " O |   |   \n",
      "---|---|---\n",
      " O | X | X \n",
      "---|---|---\n",
      "   |   |   \n",
      "\n",
      "\n",
      "Computer's move...\n",
      "\n",
      "\n",
      " O |   |   \n",
      "---|---|---\n",
      " O | X | X \n",
      "---|---|---\n",
      " X |   |   \n",
      "\n",
      "\n"
     ]
    },
    {
     "name": "stdin",
     "output_type": "stream",
     "text": [
      "Your move (1-9):  3\n"
     ]
    },
    {
     "name": "stdout",
     "output_type": "stream",
     "text": [
      "\n",
      "\n",
      " O |   | O \n",
      "---|---|---\n",
      " O | X | X \n",
      "---|---|---\n",
      " X |   |   \n",
      "\n",
      "\n",
      "Computer's move...\n",
      "\n",
      "\n",
      " O | X | O \n",
      "---|---|---\n",
      " O | X | X \n",
      "---|---|---\n",
      " X |   |   \n",
      "\n",
      "\n"
     ]
    }
   ],
   "source": [
    "# Main game loop\n",
    "display_board()\n",
    "\n",
    "# Player with 'X' goes first\n",
    "turn = 'X'\n",
    "\n",
    "while True:\n",
    "    if turn == player_symbol:\n",
    "        player_move()\n",
    "    else:\n",
    "        print(\"Computer's move...\")\n",
    "        computer_move()\n",
    "\n",
    "    display_board()\n",
    "\n",
    "    # Check win/draw\n",
    "    if check_win(turn):\n",
    "        winner = \"You\" if turn == player_symbol else \"Computer\"\n",
    "        print(f\"🎉 {winner} win!\")\n",
    "        break\n",
    "\n",
    "    if is_draw():\n",
    "        print(\"It's a draw!\")\n",
    "        break\n",
    "\n",
    "    # Switch turns\n",
    "    turn = computer_symbol if turn == player_symbol else player_symbol"
   ]
  },
  {
   "cell_type": "code",
   "execution_count": null,
   "id": "756bc526-1065-4cef-865f-006b2b1802b5",
   "metadata": {},
   "outputs": [],
   "source": []
  }
 ],
 "metadata": {
  "kernelspec": {
   "display_name": "Python 3 (ipykernel)",
   "language": "python",
   "name": "python3"
  },
  "language_info": {
   "codemirror_mode": {
    "name": "ipython",
    "version": 3
   },
   "file_extension": ".py",
   "mimetype": "text/x-python",
   "name": "python",
   "nbconvert_exporter": "python",
   "pygments_lexer": "ipython3",
   "version": "3.12.4"
  }
 },
 "nbformat": 4,
 "nbformat_minor": 5
}
